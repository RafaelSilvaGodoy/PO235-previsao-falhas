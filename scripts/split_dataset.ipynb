{
 "cells": [
  {
   "cell_type": "markdown",
   "id": "82aa68f9-6db4-4543-889d-49950e59415c",
   "metadata": {},
   "source": [
    "**Repeat cross validation 10 times with different seeds**"
   ]
  },
  {
   "cell_type": "code",
   "execution_count": 1,
   "id": "21007687-0084-40f6-8b4d-667e55fcb612",
   "metadata": {},
   "outputs": [
    {
     "name": "stdout",
     "output_type": "stream",
     "text": [
      "Cloning into 'sklearn_repeated_group_k_fold'...\n",
      "remote: Enumerating objects: 17, done.\u001b[K\n",
      "remote: Counting objects: 100% (17/17), done.\u001b[K\n",
      "remote: Compressing objects: 100% (13/13), done.\u001b[K\n",
      "remote: Total 17 (delta 6), reused 8 (delta 3), pack-reused 0\u001b[K\n",
      "Receiving objects: 100% (17/17), 10.19 KiB | 160.00 KiB/s, done.\n",
      "Resolving deltas: 100% (6/6), done.\n"
     ]
    }
   ],
   "source": [
    "# clone the Repeated Grouped K-fold project\n",
    "! git clone https://github.com/BbChip0103/sklearn_repeated_group_k_fold.git\n",
    "\n",
    "#ps: the RepeatedGroupKFold may fail due the file did not import the numpy library, so it is important to edit the file with:\n",
    "#import numpy as np"
   ]
  },
  {
   "cell_type": "code",
   "execution_count": 2,
   "id": "2d251ccf-6d98-4b2f-a44f-566a864e6a93",
   "metadata": {},
   "outputs": [],
   "source": [
    "import os\n",
    "import pandas as pd"
   ]
  },
  {
   "cell_type": "code",
   "execution_count": 3,
   "id": "369ab9a8-e3ac-408b-bcaf-a1400485c2fb",
   "metadata": {},
   "outputs": [],
   "source": [
    "from sklearn_repeated_group_k_fold.sklearn_repeated_group_k_fold import RepeatedGroupKFold"
   ]
  },
  {
   "cell_type": "code",
   "execution_count": 4,
   "id": "09599cca-28e1-4e7f-9dff-73d9820d96b7",
   "metadata": {},
   "outputs": [],
   "source": [
    "# dataset columns names\n",
    "index_names = ['id', 'time_cycles']\n",
    "setting_names = ['setting_1', 'setting_2', 'setting_3']\n",
    "sensor_names = ['s_{}'.format(i+1) for i in range(0,21)]\n",
    "col_names = index_names + setting_names + sensor_names"
   ]
  },
  {
   "cell_type": "code",
   "execution_count": 5,
   "id": "48c97eba-dfa8-41a7-bf30-7e08fc20bcbb",
   "metadata": {},
   "outputs": [],
   "source": [
    "df = pd.read_csv(\"../dataset/CMaps/train_FD001.txt\",sep='\\s+',header=None,index_col=False,names=col_names)\n",
    "df = df.sort_values(['id','time_cycles'])"
   ]
  },
  {
   "cell_type": "code",
   "execution_count": 6,
   "id": "574159fd-79f9-4abb-a67e-724962a31ebb",
   "metadata": {},
   "outputs": [],
   "source": [
    "# creates the directory to split the dataset\n",
    "if not os.path.exists(\"../dataset/split_folders\"):\n",
    "        os.makedirs(\"../dataset/split_folders\")"
   ]
  },
  {
   "cell_type": "code",
   "execution_count": 7,
   "id": "1cc10b20-2e5d-47f3-975a-2fa4e70454eb",
   "metadata": {},
   "outputs": [],
   "source": [
    "path_split = \"../dataset/split_folders\""
   ]
  },
  {
   "cell_type": "code",
   "execution_count": 8,
   "id": "1b0abf10-5e74-41f1-bb94-e0ea1e7f7f34",
   "metadata": {},
   "outputs": [
    {
     "name": "stderr",
     "output_type": "stream",
     "text": [
      "mkdir: não foi possível criar o diretório “../dataset/split_folders/repeat_0”: Arquivo existe\n"
     ]
    },
    {
     "name": "stdout",
     "output_type": "stream",
     "text": [
      "Fold 0:\n",
      "  Test:  group=[ 2 26 28 41 44 50 69 77 82]\n",
      "Fold 1:\n",
      "  Test:  group=[12 16 19 53 58 76 81 85 87 92]\n",
      "Fold 2:\n",
      "  Test:  group=[15 24 42 47 56 57 75 91 96 98]\n",
      "Fold 3:\n",
      "  Test:  group=[10 27 30 33 46 49 61 67 79 89]\n",
      "Fold 4:\n",
      "  Test:  group=[11 29 32 54 62 65 70 83 88 97]\n",
      "Fold 5:\n",
      "  Test:  group=[14 23 31 35 37 43 55 68 71 72 74]\n",
      "Fold 6:\n",
      "  Test:  group=[ 3  4  7  8 13 22 34 38 51 64]\n",
      "Fold 7:\n",
      "  Test:  group=[ 6  9 21 45 48 63 66 78 94 95]\n",
      "Fold 8:\n",
      "  Test:  group=[  1  25  39  59  60  73  84  86  99 100]\n",
      "Fold 9:\n",
      "  Test:  group=[ 5 17 18 20 36 40 52 80 90 93]\n"
     ]
    },
    {
     "name": "stderr",
     "output_type": "stream",
     "text": [
      "mkdir: não foi possível criar o diretório “../dataset/split_folders/repeat_1”: Arquivo existe\n"
     ]
    },
    {
     "name": "stdout",
     "output_type": "stream",
     "text": [
      "Fold 0:\n",
      "  Test:  group=[22 42 43 47 55 61 68 70 73 77 80]\n",
      "Fold 1:\n",
      "  Test:  group=[16 18 31 49 59 60 74 79 91 92]\n",
      "Fold 2:\n",
      "  Test:  group=[30 45 58 71 81 82 85 87 96 99]\n",
      "Fold 3:\n",
      "  Test:  group=[ 3  4  8 11 13 28 34 51 67 89]\n",
      "Fold 4:\n",
      "  Test:  group=[ 9 10 12 46 50 53 76 78 83 88]\n",
      "Fold 5:\n",
      "  Test:  group=[ 2 15 33 36 37 56 57 84 93 98]\n",
      "Fold 6:\n",
      "  Test:  group=[19 21 24 40 52 63 64 66 75 94]\n",
      "Fold 7:\n",
      "  Test:  group=[ 1  5  6 23 25 26 27 35 54 95]\n",
      "Fold 8:\n",
      "  Test:  group=[ 7 20 29 32 38 62 65 69 86]\n",
      "Fold 9:\n",
      "  Test:  group=[ 14  17  39  41  44  48  72  90  97 100]\n"
     ]
    },
    {
     "name": "stderr",
     "output_type": "stream",
     "text": [
      "mkdir: não foi possível criar o diretório “../dataset/split_folders/repeat_2”: Arquivo existe\n"
     ]
    },
    {
     "name": "stdout",
     "output_type": "stream",
     "text": [
      "Fold 0:\n",
      "  Test:  group=[ 7 15 22 26 30 47 56 70 78 98]\n",
      "Fold 1:\n",
      "  Test:  group=[12 29 37 65 68 71 82 84 92 93]\n",
      "Fold 2:\n",
      "  Test:  group=[16 27 59 61 75 76 79 81 91 96]\n",
      "Fold 3:\n",
      "  Test:  group=[ 3  8  9 11 36 53 66 67 85 89]\n",
      "Fold 4:\n",
      "  Test:  group=[10 13 28 32 34 46 50 58 73 83]\n",
      "Fold 5:\n",
      "  Test:  group=[ 2  4 19 25 33 40 49 54 63 99]\n",
      "Fold 6:\n",
      "  Test:  group=[ 1 14 31 35 42 43 44 55 64 77]\n",
      "Fold 7:\n",
      "  Test:  group=[18 23 38 39 51 60 69 74 94 95]\n",
      "Fold 8:\n",
      "  Test:  group=[ 24  41  48  62  72  86  88  90  97 100]\n",
      "Fold 9:\n",
      "  Test:  group=[ 5  6 17 20 21 45 52 57 80 87]\n"
     ]
    },
    {
     "name": "stderr",
     "output_type": "stream",
     "text": [
      "mkdir: não foi possível criar o diretório “../dataset/split_folders/repeat_3”: Arquivo existe\n"
     ]
    },
    {
     "name": "stdout",
     "output_type": "stream",
     "text": [
      "Fold 0:\n",
      "  Test:  group=[ 2 14 20 23 31 35 69 70 91 98]\n",
      "Fold 1:\n",
      "  Test:  group=[ 9 21 27 30 40 51 57 82 89 92]\n",
      "Fold 2:\n",
      "  Test:  group=[15 26 28 42 44 52 62 77 80 96]\n",
      "Fold 3:\n",
      "  Test:  group=[ 1 16 37 38 46 49 67 71 79 87]\n",
      "Fold 4:\n",
      "  Test:  group=[10 33 39 54 60 61 66 75 81 83]\n",
      "Fold 5:\n",
      "  Test:  group=[11 18 36 43 55 56 58 68 74 84]\n",
      "Fold 6:\n",
      "  Test:  group=[ 7 12 24 32 34 45 50 59 64 73]\n",
      "Fold 7:\n",
      "  Test:  group=[ 8 19 47 63 78 85 94 95 97 99]\n",
      "Fold 8:\n",
      "  Test:  group=[ 3  4 22 29 41 48 72 86 88 90]\n",
      "Fold 9:\n",
      "  Test:  group=[  5   6  13  17  25  53  65  76  93 100]\n"
     ]
    },
    {
     "name": "stderr",
     "output_type": "stream",
     "text": [
      "mkdir: não foi possível criar o diretório “../dataset/split_folders/repeat_4”: Arquivo existe\n"
     ]
    },
    {
     "name": "stdout",
     "output_type": "stream",
     "text": [
      "Fold 0:\n",
      "  Test:  group=[ 1  2 14 22 23 35 42 60 74 76 88]\n",
      "Fold 1:\n",
      "  Test:  group=[18 31 33 43 56 58 59 82 92]\n",
      "Fold 2:\n",
      "  Test:  group=[ 3 20 29 32 38 66 69 90 96]\n",
      "Fold 3:\n",
      "  Test:  group=[ 5  6 11 41 45 63 67 85 98 99]\n",
      "Fold 4:\n",
      "  Test:  group=[ 4 19 21 40 46 51 52 83 89 93]\n",
      "Fold 5:\n",
      "  Test:  group=[28 44 47 50 71 72 73 77 78 97]\n",
      "Fold 6:\n",
      "  Test:  group=[  8  26  36  49  53  57  64  75  94 100]\n",
      "Fold 7:\n",
      "  Test:  group=[ 9 13 16 24 25 34 54 65 87 95]\n",
      "Fold 8:\n",
      "  Test:  group=[ 7 12 30 48 62 79 80 81 86 91]\n",
      "Fold 9:\n",
      "  Test:  group=[10 15 17 27 37 39 55 61 68 70 84]\n"
     ]
    },
    {
     "name": "stderr",
     "output_type": "stream",
     "text": [
      "mkdir: não foi possível criar o diretório “../dataset/split_folders/repeat_5”: Arquivo existe\n"
     ]
    },
    {
     "name": "stdout",
     "output_type": "stream",
     "text": [
      "Fold 0:\n",
      "  Test:  group=[10 22 23 35 42 43 50 56 60 82 91]\n",
      "Fold 1:\n",
      "  Test:  group=[16 27 30 31 33 57 68 76 80 92]\n",
      "Fold 2:\n",
      "  Test:  group=[ 2  3 12 25 32 34 66 73 96]\n",
      "Fold 3:\n",
      "  Test:  group=[  8  13  20  21  40  52  67  89  93 100]\n",
      "Fold 4:\n",
      "  Test:  group=[ 4  6  9 19 36 46 53 63 83 84]\n",
      "Fold 5:\n",
      "  Test:  group=[ 5 11 14 24 29 71 78 88 90 97]\n",
      "Fold 6:\n",
      "  Test:  group=[15 18 39 47 55 64 70 74 77 94 98]\n",
      "Fold 7:\n",
      "  Test:  group=[45 49 54 58 75 79 85 87 95 99]\n",
      "Fold 8:\n",
      "  Test:  group=[ 1  7 37 38 51 59 61 62 81 86]\n",
      "Fold 9:\n",
      "  Test:  group=[17 26 28 41 44 48 65 69 72]\n"
     ]
    },
    {
     "name": "stderr",
     "output_type": "stream",
     "text": [
      "mkdir: não foi possível criar o diretório “../dataset/split_folders/repeat_6”: Arquivo existe\n"
     ]
    },
    {
     "name": "stdout",
     "output_type": "stream",
     "text": [
      "Fold 0:\n",
      "  Test:  group=[11 14 15 22 23 31 37 70 73 93 99]\n",
      "Fold 1:\n",
      "  Test:  group=[28 38 39 71 75 79 82 84 90 92]\n",
      "Fold 2:\n",
      "  Test:  group=[16 18 33 40 45 49 58 60 81 96]\n",
      "Fold 3:\n",
      "  Test:  group=[ 5 10 12 20 27 30 57 61 67 68]\n",
      "Fold 4:\n",
      "  Test:  group=[ 2  4  9 34 46 51 83 87 89]\n",
      "Fold 5:\n",
      "  Test:  group=[35 36 43 47 50 55 56 62 78 91]\n",
      "Fold 6:\n",
      "  Test:  group=[ 1 44 64 69 72 74 77 80 94 98]\n",
      "Fold 7:\n",
      "  Test:  group=[  3   8  19  25  53  54  76  85  95 100]\n",
      "Fold 8:\n",
      "  Test:  group=[ 6  7 13 21 24 52 59 63 66 86]\n",
      "Fold 9:\n",
      "  Test:  group=[17 26 29 32 41 42 48 65 88 97]\n"
     ]
    },
    {
     "name": "stderr",
     "output_type": "stream",
     "text": [
      "mkdir: não foi possível criar o diretório “../dataset/split_folders/repeat_7”: Arquivo existe\n"
     ]
    },
    {
     "name": "stdout",
     "output_type": "stream",
     "text": [
      "Fold 0:\n",
      "  Test:  group=[ 2 22 36 52 53 63 72 74 82 85]\n",
      "Fold 1:\n",
      "  Test:  group=[16 24 31 35 49 56 59 79 92]\n",
      "Fold 2:\n",
      "  Test:  group=[21 25 30 40 45 58 60 66 73 96]\n",
      "Fold 3:\n",
      "  Test:  group=[ 1 10 18 20 33 67 68 81 89 93]\n",
      "Fold 4:\n",
      "  Test:  group=[ 6 27 37 43 46 55 61 62 83 84]\n",
      "Fold 5:\n",
      "  Test:  group=[ 5 12 14 15 23 26 39 71 78 80 91]\n",
      "Fold 6:\n",
      "  Test:  group=[29 42 44 47 50 64 70 90 94 97]\n",
      "Fold 7:\n",
      "  Test:  group=[  3  13  54  57  65  75  76  95  99 100]\n",
      "Fold 8:\n",
      "  Test:  group=[ 7 28 32 38 51 69 77 86 88 98]\n",
      "Fold 9:\n",
      "  Test:  group=[ 4  8  9 11 17 19 34 41 48 87]\n"
     ]
    },
    {
     "name": "stderr",
     "output_type": "stream",
     "text": [
      "mkdir: não foi possível criar o diretório “../dataset/split_folders/repeat_8”: Arquivo existe\n"
     ]
    },
    {
     "name": "stdout",
     "output_type": "stream",
     "text": [
      "Fold 0:\n",
      "  Test:  group=[ 5 11 13 21 22 24 48 52 78 91]\n",
      "Fold 1:\n",
      "  Test:  group=[ 7  8 37 42 45 51 69 87 92]\n",
      "Fold 2:\n",
      "  Test:  group=[ 6 27 30 31 33 61 71 79 82 96]\n",
      "Fold 3:\n",
      "  Test:  group=[20 35 43 56 59 67 77 84 98]\n",
      "Fold 4:\n",
      "  Test:  group=[ 3 12 29 46 49 53 76 83 85 90]\n",
      "Fold 5:\n",
      "  Test:  group=[ 1 25 36 55 60 66 68 74 75 81 99]\n",
      "Fold 6:\n",
      "  Test:  group=[ 9 18 26 40 63 64 70 73 89 94]\n",
      "Fold 7:\n",
      "  Test:  group=[ 4 10 16 19 28 34 50 54 65 95]\n",
      "Fold 8:\n",
      "  Test:  group=[ 2 15 23 39 44 47 57 62 80 86 93]\n",
      "Fold 9:\n",
      "  Test:  group=[ 14  17  32  38  41  58  72  88  97 100]\n"
     ]
    },
    {
     "name": "stderr",
     "output_type": "stream",
     "text": [
      "mkdir: não foi possível criar o diretório “../dataset/split_folders/repeat_9”: Arquivo existe\n"
     ]
    },
    {
     "name": "stdout",
     "output_type": "stream",
     "text": [
      "Fold 0:\n",
      "  Test:  group=[ 1 11 14 22 23 35 47 73 91 93 97]\n",
      "Fold 1:\n",
      "  Test:  group=[ 2  7 29 31 42 76 90 92 98]\n",
      "Fold 2:\n",
      "  Test:  group=[ 5 12 33 52 61 62 68 89 96]\n",
      "Fold 3:\n",
      "  Test:  group=[20 38 39 43 67 70 74 75 77 79 88]\n",
      "Fold 4:\n",
      "  Test:  group=[18 19 24 30 40 41 46 63 81 83]\n",
      "Fold 5:\n",
      "  Test:  group=[ 6 10 15 26 27 36 37 55 56 82 99]\n",
      "Fold 6:\n",
      "  Test:  group=[25 28 49 53 58 64 71 85 87 94]\n",
      "Fold 7:\n",
      "  Test:  group=[ 9 16 21 45 54 57 59 60 78 95]\n",
      "Fold 8:\n",
      "  Test:  group=[ 32  44  48  50  65  69  72  86 100]\n",
      "Fold 9:\n",
      "  Test:  group=[ 3  4  8 13 17 34 51 66 80 84]\n"
     ]
    }
   ],
   "source": [
    "ids = ids = df['id']\n",
    "rkf = RepeatedGroupKFold(n_splits=10, n_repeats=10, random_state=2652124)\n",
    "i = 0\n",
    "repeat = 0\n",
    "for train_index, test_index in rkf.split(df, df['time_cycles'], ids):\n",
    "  if i == 10:\n",
    "    i = 0\n",
    "  if i == 0:\n",
    "    path = path_split+'/repeat_'+str(repeat)\n",
    "    os.system(f'mkdir {path}')\n",
    "    repeat = repeat+1\n",
    "\n",
    "  print(f\"Fold {i}:\")\n",
    "  print(f\"  Test:  group={ids[test_index].unique()}\")\n",
    "\n",
    "  # save csv file\n",
    "  df_train = df.iloc[train_index]\n",
    "  df_test  = df.iloc[test_index]\n",
    "\n",
    "  train_path = str(path)+'/train_'+str(i)+'.csv'\n",
    "  test_path  = str(path)+'/test_'+str(i)+'.csv'\n",
    "\n",
    "  df_train.to_csv(train_path, sep=' ', na_rep=' ');\n",
    "  df_test.to_csv(test_path, sep=' ', na_rep=' ');\n",
    "\n",
    "  i = i+1"
   ]
  },
  {
   "cell_type": "code",
   "execution_count": 10,
   "id": "35cd10bb-a6e2-40fc-afe4-09c51954d48c",
   "metadata": {},
   "outputs": [
    {
     "data": {
      "text/plain": [
       "0"
      ]
     },
     "execution_count": 10,
     "metadata": {},
     "output_type": "execute_result"
    }
   ],
   "source": [
    "# remove the repository\n",
    "rep_path = 'sklearn_repeated_group_k_fold'\n",
    "os.system(f'rm -r {rep_path}')"
   ]
  }
 ],
 "metadata": {
  "kernelspec": {
   "display_name": "Python 3 (ipykernel)",
   "language": "python",
   "name": "python3"
  },
  "language_info": {
   "codemirror_mode": {
    "name": "ipython",
    "version": 3
   },
   "file_extension": ".py",
   "mimetype": "text/x-python",
   "name": "python",
   "nbconvert_exporter": "python",
   "pygments_lexer": "ipython3",
   "version": "3.10.12"
  }
 },
 "nbformat": 4,
 "nbformat_minor": 5
}
