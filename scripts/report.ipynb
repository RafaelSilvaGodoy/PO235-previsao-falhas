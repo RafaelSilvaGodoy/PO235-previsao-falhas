{
 "cells": [
  {
   "cell_type": "code",
   "execution_count": null,
   "metadata": {},
   "outputs": [],
   "source": [
    "%%capture\n",
    "!pip install scikit-learn\n",
    "!pip install fpdf"
   ]
  },
  {
   "cell_type": "code",
   "execution_count": 42,
   "metadata": {},
   "outputs": [],
   "source": [
    "from fpdf import FPDF\n",
    "\n",
    "class PDF(FPDF):\n",
    "    def header(self):\n",
    "        # Arial bold 15\n",
    "        self.set_font('Arial', 'B', 15)\n",
    "        # Calculate width of title and position\n",
    "        w = self.get_string_width(title) + 6\n",
    "        self.set_x((210 - w) / 2)\n",
    "        # Colors of frame, background and text\n",
    "        self.set_draw_color(0, 0, 0)\n",
    "        self.set_fill_color(220, 220, 250)\n",
    "        self.set_text_color(0, 0, 0)\n",
    "        # Thickness of frame (1 mm)\n",
    "        self.set_line_width(1)\n",
    "        # Title\n",
    "        self.cell(w, 9, title, 1, 1, 'C', 1)\n",
    "        # Line break\n",
    "        self.ln(10)\n",
    "\n",
    "    def footer(self):\n",
    "        # Position at 1.5 cm from bottom\n",
    "        self.set_y(-15)\n",
    "        # Arial italic 8\n",
    "        self.set_font('Arial', 'I', 8)\n",
    "        # Text color in gray\n",
    "        self.set_text_color(128)\n",
    "        # Page number\n",
    "        self.cell(0, 10, 'Page ' + str(self.page_no()), 0, 0, 'C')\n",
    "\n",
    "    def chapter_title(self, num, label):\n",
    "        # Arial 12\n",
    "        self.set_font('Arial', '', 12)\n",
    "        # Background color\n",
    "        self.set_fill_color(200, 220, 255)\n",
    "        # Title\n",
    "        self.cell(0, 6, 'Model %d : %s' % (num, label), 0, 1, 'L', 1)\n",
    "        # Line break\n",
    "        self.ln(4)\n",
    "\n",
    "    def chapter_body(self, report):\n",
    "        self.set_font('Times', '', 12)\n",
    "        # Output justified text\n",
    "        self.multi_cell(0, 5, f\"Accuracy: {report['Accuracy']}\")\n",
    "        # Line break\n",
    "        self.ln()\n",
    "\n",
    "        self.multi_cell(0, 5, f\"Precision: {report['Precision']}\")\n",
    "        # Line break\n",
    "        self.ln()\n",
    "        \n",
    "        self.multi_cell(0, 5, f\"Recall: {report['Recall']}\")\n",
    "        # Line break\n",
    "        self.ln()\n",
    "        # Mention in italics\n",
    "        self.set_font('', 'I')\n",
    "        \n",
    "\n",
    "    def print_chapter(self, num, report):\n",
    "        self.add_page()\n",
    "        self.chapter_title(num, report[\"Model Name\"])\n",
    "        self.chapter_body(report)"
   ]
  },
  {
   "cell_type": "code",
   "execution_count": 43,
   "metadata": {},
   "outputs": [],
   "source": [
    "import numpy as np\n",
    "from sklearn.metrics import accuracy_score, precision_score, recall_score\n",
    "\n",
    "class ModelEvaluator:\n",
    "    def __init__(self, model_name, model):\n",
    "        self.model_name = model_name\n",
    "        self.model = model\n",
    "\n",
    "    def report(self, X_test, y_test):\n",
    "        \n",
    "        y_pred = self.model.predict(X_test)\n",
    "  \n",
    "        accuracy = accuracy_score(y_test, y_pred)\n",
    "        precision = precision_score(y_test, y_pred)\n",
    "        recall = recall_score(y_test, y_pred)\n",
    "\n",
    "        return {\n",
    "            'Model Name': self.model_name,\n",
    "            'Accuracy': round(accuracy,3),\n",
    "            'Precision': round(precision,3),\n",
    "            'Recall': round(recall,3)\n",
    "        }\n",
    "\n",
    "class ModelDummy():\n",
    "    def __init__(self, name):\n",
    "        self.name = name\n",
    "\n",
    "    def predict(self,X_test):\n",
    "        return np.random.randint(2, size=X_test.shape[0])"
   ]
  },
  {
   "cell_type": "code",
   "execution_count": 44,
   "metadata": {},
   "outputs": [
    {
     "data": {
      "text/plain": [
       "''"
      ]
     },
     "execution_count": 44,
     "metadata": {},
     "output_type": "execute_result"
    }
   ],
   "source": [
    "X_test = np.array([1,0,1,0,0,1])\n",
    "y_test = np.array([1,1,0,0,1,1])\n",
    "\n",
    "\n",
    "model1 = ModelDummy(name=\"model abc v1\")\n",
    "evaluator1 = ModelEvaluator(\"model abc v1\", model1)\n",
    "report1 = evaluator1.report(X_test, y_test)\n",
    "\n",
    "model2 = ModelDummy(name=\"model xyz v2\")\n",
    "evaluator2 = ModelEvaluator(\"model xyz v2\", model2)\n",
    "report2 = evaluator2.report(X_test, y_test)\n",
    "\n",
    "pdf = PDF()\n",
    "\n",
    "title = 'Performance Report V1.0'\n",
    "pdf.set_title('Performance Report V1.0')\n",
    "\n",
    "pdf.print_chapter(1, report1)\n",
    "pdf.print_chapter(2, report2)\n",
    "\n",
    "pdf.output('Performance Report V1.0.pdf', 'F')"
   ]
  },
  {
   "cell_type": "code",
   "execution_count": null,
   "metadata": {},
   "outputs": [],
   "source": []
  }
 ],
 "metadata": {
  "kernelspec": {
   "display_name": "Python 3",
   "language": "python",
   "name": "python3"
  },
  "language_info": {
   "codemirror_mode": {
    "name": "ipython",
    "version": 3
   },
   "file_extension": ".py",
   "mimetype": "text/x-python",
   "name": "python",
   "nbconvert_exporter": "python",
   "pygments_lexer": "ipython3",
   "version": "3.9.13"
  }
 },
 "nbformat": 4,
 "nbformat_minor": 2
}
